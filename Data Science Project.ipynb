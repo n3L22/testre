{

   "source": [
    "!pip install yfinance==0.2.38\n",
    "!pip install pandas==2.2.2\n",
    "!pip install nbformat"
   ]
  },
  {
   "cell_type": "code",
   "execution_count": 2,
   "metadata": {
    "tags": []
   },
   "outputs": [
    {
     "name": "stdout",
     "output_type": "stream",
     "text": [
      "Collecting yfinance==0.1.67\n",
      "  Using cached yfinance-0.1.67-py2.py3-none-any.whl (25 kB)\n",
      "Requirement already satisfied: pandas>=0.24 in /home/jupyterlab/conda/envs/python/lib/python3.7/site-packages (from yfinance==0.1.67) (1.3.5)\n",
      "Requirement already satisfied: numpy>=1.15 in /home/jupyterlab/conda/envs/python/lib/python3.7/site-packages (from yfinance==0.1.67) (1.21.6)\n",
      "Requirement already satisfied: requests>=2.20 in /home/jupyterlab/conda/envs/python/lib/python3.7/site-packages (from yfinance==0.1.67) (2.31.0)\n",
      "Requirement already satisfied: multitasking>=0.0.7 in /home/jupyterlab/conda/envs/python/lib/python3.7/site-packages (from yfinance==0.1.67) (0.0.11)\n",
      "Requirement already satisfied: lxml>=4.5.1 in /home/jupyterlab/conda/envs/python/lib/python3.7/site-packages (from yfinance==0.1.67) (4.9.2)\n",
      "Requirement already satisfied: python-dateutil>=2.7.3 in /home/jupyterlab/conda/envs/python/lib/python3.7/site-packages (from pandas>=0.24->yfinance==0.1.67) (2.8.2)\n",
      "Requirement already satisfied: pytz>=2017.3 in /home/jupyterlab/conda/envs/python/lib/python3.7/site-packages (from pandas>=0.24->yfinance==0.1.67) (2023.3)\n",
      "Requirement already satisfied: charset-normalizer<4,>=2 in /home/jupyterlab/conda/envs/python/lib/python3.7/site-packages (from requests>=2.20->yfinance==0.1.67) (3.1.0)\n",
      "Requirement already satisfied: idna<4,>=2.5 in /home/jupyterlab/conda/envs/python/lib/python3.7/site-packages (from requests>=2.20->yfinance==0.1.67) (3.4)\n",
      "Requirement already satisfied: urllib3<3,>=1.21.1 in /home/jupyterlab/conda/envs/python/lib/python3.7/site-packages (from requests>=2.20->yfinance==0.1.67) (1.26.15)\n",
      "Requirement already satisfied: certifi>=2017.4.17 in /home/jupyterlab/conda/envs/python/lib/python3.7/site-packages (from requests>=2.20->yfinance==0.1.67) (2023.5.7)\n",
      "Requirement already satisfied: six>=1.5 in /home/jupyterlab/conda/envs/python/lib/python3.7/site-packages (from python-dateutil>=2.7.3->pandas>=0.24->yfinance==0.1.67) (1.16.0)\n",
      "Installing collected packages: yfinance\n",
      "  Attempting uninstall: yfinance\n",
      "    Found existing installation: yfinance 0.2.38\n",
      "    Uninstalling yfinance-0.2.38:\n",
      "      Successfully uninstalled yfinance-0.2.38\n",
      "Successfully installed yfinance-0.1.67\n",
      "\n",
      "                  __    __    __    __\n",
      "                 /  \\  /  \\  /  \\  /  \\\n",
      "                /    \\/    \\/    \\/    \\\n",
      "███████████████/  /██/  /██/  /██/  /████████████████████████\n",
      "              /  / \\   / \\   / \\   / \\  \\____\n",
      "             /  /   \\_/   \\_/   \\_/   \\    o \\__,\n",
      "            / _/                       \\_____/  `\n",
      "            |/\n",
      "        ███╗   ███╗ █████╗ ███╗   ███╗██████╗  █████╗\n",
      "        ████╗ ████║██╔══██╗████╗ ████║██╔══██╗██╔══██╗\n",
      "        ██╔████╔██║███████║██╔████╔██║██████╔╝███████║\n",
      "        ██║╚██╔╝██║██╔══██║██║╚██╔╝██║██╔══██╗██╔══██║\n",
      "        ██║ ╚═╝ ██║██║  ██║██║ ╚═╝ ██║██████╔╝██║  ██║\n",
      "        ╚═╝     ╚═╝╚═╝  ╚═╝╚═╝     ╚═╝╚═════╝ ╚═╝  ╚═╝\n",
      "\n",
      "        mamba (1.4.2) supported by @QuantStack\n",
      "\n",
      "        GitHub:  https://github.com/mamba-org/mamba\n",
      "        Twitter: https://twitter.com/QuantStack\n",
      "\n",
      "█████████████████████████████████████████████████████████████\n",
      "\n",
      "\n",
      "Looking for: ['bs4==4.10.0']\n",
      "\n",
      "\u001b[?25l\u001b[2K\u001b[0G[+] 0.0s\n",
      "pkgs/main/linux-64 \u001b[90m━━━━╸\u001b[0m\u001b[33m━━━━━━━━━━━━━━━╸\u001b[0m\u001b[90m━━━━\u001b[0m   0.0 B /  ??.?MB @  ??.?MB/s  0.0s\n",
      "pkgs/main/noarch   \u001b[33m━━━━━━━━━━━━━╸\u001b[0m\u001b[90m━━━━━━━━━━━\u001b[0m   0.0 B /  ??.?MB @  ??.?MB/s  0.0s\u001b[2K\u001b[1A\u001b[2K\u001b[1A\u001b[2K\u001b[0G[+] 0.1s\n",
      "pkgs/main/linux-64 \u001b[90m━━━━╸\u001b[0m\u001b[33m━━━━━━━━━━━━━━━╸\u001b[0m\u001b[90m━━━━\u001b[0m   0.0 B /  ??.?MB @  ??.?MB/s  0.1s\n",
      "pkgs/main/noarch   \u001b[33m━━━━━━━━━━━━━╸\u001b[0m\u001b[90m━━━━━━━━━━━\u001b[0m   0.0 B /  ??.?MB @  ??.?MB/s  0.1s\n",
      "pkgs/r/linux-64    \u001b[90m━━━━━━━━━━━╸\u001b[0m\u001b[33m━━━━━━━━━━━━━\u001b[0m   0.0 B /  ??.?MB @  ??.?MB/s  0.1s\n",
      "pkgs/r/noarch      \u001b[90m╸\u001b[0m\u001b[33m━━━━━━━━━━━━━━━╸\u001b[0m\u001b[90m━━━━━━━━\u001b[0m   0.0 B /  ??.?MB @  ??.?MB/s  0.1s\u001b[2K\u001b[1A\u001b[2K\u001b[1A\u001b[2K\u001b[1A\u001b[2K\u001b[1A\u001b[2K\u001b[0Gpkgs/r/noarch                                                 No change\n",
      "pkgs/main/noarch                                              No change\n",
      "pkgs/r/linux-64                                               No change\n",
      "pkgs/main/linux-64                                            No change\n",
      "\u001b[?25h\n",
      "Pinned packages:\n",
      "  - python 3.7.*\n",
      "\n",
      "\n",
      "Transaction\n",
      "\n",
      "  Prefix: /home/jupyterlab/conda/envs/python\n",
      "\n",
      "  All requested packages already installed\n",
      "\n",
      "\u001b[?25l\u001b[2K\u001b[0G\u001b[?25hRequirement already satisfied: nbformat==4.2.0 in /home/jupyterlab/conda/envs/python/lib/python3.7/site-packages (4.2.0)\n",
      "Requirement already satisfied: ipython-genutils in /home/jupyterlab/conda/envs/python/lib/python3.7/site-packages (from nbformat==4.2.0) (0.2.0)\n",
      "Requirement already satisfied: jsonschema!=2.5.0,>=2.4 in /home/jupyterlab/conda/envs/python/lib/python3.7/site-packages (from nbformat==4.2.0) (4.17.3)\n",
      "Requirement already satisfied: jupyter-core in /home/jupyterlab/conda/envs/python/lib/python3.7/site-packages (from nbformat==4.2.0) (4.12.0)\n",
      "Requirement already satisfied: traitlets>=4.1 in /home/jupyterlab/conda/envs/python/lib/python3.7/site-packages (from nbformat==4.2.0) (5.9.0)\n",
      "Requirement already satisfied: attrs>=17.4.0 in /home/jupyterlab/conda/envs/python/lib/python3.7/site-packages (from jsonschema!=2.5.0,>=2.4->nbformat==4.2.0) (23.1.0)\n",
      "Requirement already satisfied: importlib-metadata in /home/jupyterlab/conda/envs/python/lib/python3.7/site-packages (from jsonschema!=2.5.0,>=2.4->nbformat==4.2.0) (4.11.4)\n",
      "Requirement already satisfied: importlib-resources>=1.4.0 in /home/jupyterlab/conda/envs/python/lib/python3.7/site-packages (from jsonschema!=2.5.0,>=2.4->nbformat==4.2.0) (5.12.0)\n",
      "Requirement already satisfied: pkgutil-resolve-name>=1.3.10 in /home/jupyterlab/conda/envs/python/lib/python3.7/site-packages (from jsonschema!=2.5.0,>=2.4->nbformat==4.2.0) (1.3.10)\n",
      "Requirement already satisfied: pyrsistent!=0.17.0,!=0.17.1,!=0.17.2,>=0.14.0 in /home/jupyterlab/conda/envs/python/lib/python3.7/site-packages (from jsonschema!=2.5.0,>=2.4->nbformat==4.2.0) (0.19.3)\n",
      "Requirement already satisfied: typing-extensions in /home/jupyterlab/conda/envs/python/lib/python3.7/site-packages (from jsonschema!=2.5.0,>=2.4->nbformat==4.2.0) (4.5.0)\n",
      "Requirement already satisfied: zipp>=3.1.0 in /home/jupyterlab/conda/envs/python/lib/python3.7/site-packages (from importlib-resources>=1.4.0->jsonschema!=2.5.0,>=2.4->nbformat==4.2.0) (3.15.0)\n"
     ]
    }
   ],
   "source": [
    "!pip install yfinance==0.1.67\n",
    "!mamba install bs4==4.10.0 -y\n",
    "!pip install nbformat==4.2.0"
   ]
  },
  {
   "cell_type": "code",
   "execution_count": 3,
   "metadata": {
    "tags": []
   },
   "outputs": [],
   "source": [
    "import yfinance as yf\n",
    "import pandas as pd\n",
    "import requests\n",
    "from bs4 import BeautifulSoup\n",
    "import plotly.graph_objects as go\n",
    "from plotly.subplots import make_subplots"
   ]
  },
  {
   "cell_type": "markdown",
   "metadata": {},
   "source": [
    "In Python, you can ignore warnings using the warnings module. You can use the filterwarnings function to filter or ignore specific warning messages or categories.\n"
   ]
  },
  {
   "cell_type": "code",
   "execution_count": 4,
   "metadata": {
    "tags": []
   },
   "outputs": [],
   "source": [
    "import warnings\n",
    "# Ignore all warnings\n",
    "warnings.filterwarnings(\"ignore\", category=FutureWarning)"
   ]
  },
  {
   "cell_type": "markdown",
   "metadata": {},
   "source": [
    "## Define Graphing Function\n"
   ]
  },
  {
   "cell_type": "markdown",
   "metadata": {},
   "source": [
    "In this section, we define the function `make_graph`. You don't have to know how the function works, you should only care about the inputs. It takes a dataframe with stock data (dataframe must contain Date and Close columns), a dataframe with revenue data (dataframe must contain Date and Revenue columns), and the name of the stock.\n"
   ]
  },
  {
   "cell_type": "code",
   "execution_count": 5,
   "metadata": {
    "tags": []
   },
   "outputs": [],
   "source": [
    "def make_graph(stock_data, revenue_data, stock):\n",
    "    fig = make_subplots(rows=2, cols=1, shared_xaxes=True, subplot_titles=(\"Historical Share Price\", \"Historical Revenue\"), vertical_spacing = .3)\n",
    "    stock_data_specific = stock_data[stock_data.Date <= '2021--06-14']\n",
    "    revenue_data_specific = revenue_data[revenue_data.Date <= '2021-04-30']\n",
    "    fig.add_trace(go.Scatter(x=pd.to_datetime(stock_data_specific.Date, infer_datetime_format=True), y=stock_data_specific.Close.astype(\"float\"), name=\"Share Price\"), row=1, col=1)\n",
    "    fig.add_trace(go.Scatter(x=pd.to_datetime(revenue_data_specific.Date, infer_datetime_format=True), y=revenue_data_specific.Revenue.astype(\"float\"), name=\"Revenue\"), row=2, col=1)\n",
    "    fig.update_xaxes(title_text=\"Date\", row=1, col=1)\n",
    "    fig.update_xaxes(title_text=\"Date\", row=2, col=1)\n",
    "    fig.update_yaxes(title_text=\"Price ($US)\", row=1, col=1)\n",
    "    fig.update_yaxes(title_text=\"Revenue ($US Millions)\", row=2, col=1)\n",
    "    fig.update_layout(showlegend=False,\n",
    "    height=900,\n",
    "    title=stock,\n",
    "    xaxis_rangeslider_visible=True)\n",
    "    fig.show()"
   ]
  },
  {
   "cell_type": "markdown",
   "metadata": {},
   "source": [
    "## Question 1: Use yfinance to Extract Stock Data\n"
   ]
  },
  {
   "cell_type": "markdown",
   "metadata": {},
   "source": [
    "Using the `Ticker` function enter the ticker symbol of the stock we want to extract data on to create a ticker object. The stock is Tesla and its ticker symbol is `TSLA`.\n"
   ]
  },
  {
   "cell_type": "code",
   "execution_count": 9,
   "metadata": {
    "tags": []
   },
   "outputs": [],
   "source": [
    "tesla = yf.Ticker('TSLA')"
   ]
  },
  {
   "cell_type": "markdown",
   "metadata": {},
   "source": [
    "Using the ticker object and the function `history` extract stock information and save it in a dataframe named `tesla_data`. Set the `period` parameter to `max` so we get information for the maximum amount of time.\n"
   ]
  },
  {
   "cell_type": "code",
   "execution_count": 10,
   "metadata": {
    "tags": []
   },
   "outputs": [],
   "source": [
    "tesla_data = tesla.history(period = \"max\")"
   ]
  },
  {
   "cell_type": "markdown",
   "metadata": {},
   "source": [
    "**Reset the index** using the `reset_index(inplace=True)` function on the tesla_data DataFrame and display the first five rows of the `tesla_data` dataframe using the `head` function. Take a screenshot of the results and code from the beginning of Question 1 to the results below.\n"
   ]
  },
  {
   "cell_type": "code",
   "execution_count": 12,
   "metadata": {
    "tags": []
   },
   "outputs": [
    {
     "data": {
      "text/html": [
       "<div>\n",
       "<style scoped>\n",
       "    .dataframe tbody tr th:only-of-type {\n",
       "        vertical-align: middle;\n",
       "    }\n",
       "\n",
       "    .dataframe tbody tr th {\n",
       "        vertical-align: top;\n",
       "    }\n",
       "\n",
       "    .dataframe thead th {\n",
       "        text-align: right;\n",
       "    }\n",
       "</style>\n",
       "<table border=\"1\" class=\"dataframe\">\n",
       "  <thead>\n",
       "    <tr style=\"text-align: right;\">\n",
       "      <th></th>\n",
       "      <th>index</th>\n",
       "      <th>Date</th>\n",
       "      <th>Open</th>\n",
       "      <th>High</th>\n",
       "      <th>Low</th>\n",
       "      <th>Close</th>\n",
       "      <th>Volume</th>\n",
       "      <th>Dividends</th>\n",
       "      <th>Stock Splits</th>\n",
       "    </tr>\n",
       "  </thead>\n",
       "  <tbody>\n",
       "    <tr>\n",
       "      <th>0</th>\n",
       "      <td>0</td>\n",
       "      <td>2010-06-29</td>\n",
       "      <td>1.266667</td>\n",
       "      <td>1.666667</td>\n",
       "      <td>1.169333</td>\n",
       "      <td>1.592667</td>\n",
       "      <td>281494500</td>\n",
       "      <td>0</td>\n",
       "      <td>0.0</td>\n",
       "    </tr>\n",
       "    <tr>\n",
       "      <th>1</th>\n",
       "      <td>1</td>\n",
       "      <td>2010-06-30</td>\n",
       "      <td>1.719333</td>\n",
       "      <td>2.028000</td>\n",
       "      <td>1.553333</td>\n",
       "      <td>1.588667</td>\n",
       "      <td>257806500</td>\n",
       "      <td>0</td>\n",
       "      <td>0.0</td>\n",
       "    </tr>\n",
       "    <tr>\n",
       "      <th>2</th>\n",
       "      <td>2</td>\n",
       "      <td>2010-07-01</td>\n",
       "      <td>1.666667</td>\n",
       "      <td>1.728000</td>\n",
       "      <td>1.351333</td>\n",
       "      <td>1.464000</td>\n",
       "      <td>123282000</td>\n",
       "      <td>0</td>\n",
       "      <td>0.0</td>\n",
       "    </tr>\n",
       "    <tr>\n",
       "      <th>3</th>\n",
       "      <td>3</td>\n",
       "      <td>2010-07-02</td>\n",
       "      <td>1.533333</td>\n",
       "      <td>1.540000</td>\n",
       "      <td>1.247333</td>\n",
       "      <td>1.280000</td>\n",
       "      <td>77097000</td>\n",
       "      <td>0</td>\n",
       "      <td>0.0</td>\n",
       "    </tr>\n",
       "    <tr>\n",
       "      <th>4</th>\n",
       "      <td>4</td>\n",
       "      <td>2010-07-06</td>\n",
       "      <td>1.333333</td>\n",
       "      <td>1.333333</td>\n",
       "      <td>1.055333</td>\n",
       "      <td>1.074000</td>\n",
       "      <td>103003500</td>\n",
       "      <td>0</td>\n",
       "      <td>0.0</td>\n",
       "    </tr>\n",
       "  </tbody>\n",
       "</table>\n",
       "</div>"
      ],
      "text/plain": [
       "   index       Date      Open      High       Low     Close     Volume  \\\n",
       "0      0 2010-06-29  1.266667  1.666667  1.169333  1.592667  281494500   \n",
       "1      1 2010-06-30  1.719333  2.028000  1.553333  1.588667  257806500   \n",
       "2      2 2010-07-01  1.666667  1.728000  1.351333  1.464000  123282000   \n",
       "3      3 2010-07-02  1.533333  1.540000  1.247333  1.280000   77097000   \n",
       "4      4 2010-07-06  1.333333  1.333333  1.055333  1.074000  103003500   \n",
       "\n",
       "   Dividends  Stock Splits  \n",
       "0          0           0.0  \n",
       "1          0           0.0  \n",
       "2          0           0.0  \n",
       "3          0           0.0  \n",
       "4          0           0.0  "
      ]
     },
     "execution_count": 12,
     "metadata": {},
     "output_type": "execute_result"
    }
   ],
   "source": [
    "tesla_data.reset_index(inplace=True)\n",
    "tesla_data.head(5)"
   ]
  },
  {
   "cell_type": "markdown",
   "metadata": {},
   "source": [
    "## Question 2: Use Webscraping to Extract Tesla Revenue Data\n"
   ]
  },
  {
   "cell_type": "markdown",
   "metadata": {},
   "source": [
    "Use the `requests` library to download the webpage https://cf-courses-data.s3.us.cloud-object-storage.appdomain.cloud/IBMDeveloperSkillsNetwork-PY0220EN-SkillsNetwork/labs/project/revenue.htm Save the text of the response as a variable named `html_data`.\n"
   ]
  },
  {
   "cell_type": "code",
   "execution_count": 19,
   "metadata": {
    "tags": []
   },
   "outputs": [],
   "source": [
    "url= 'https://cf-courses-data.s3.us.cloud-object-storage.appdomain.cloud/IBMDeveloperSkillsNetwork-PY0220EN-SkillsNetwork/labs/project/revenue.htm'\n",
    "html_data= requests.get(url).text"
   ]
  },
  {
   "cell_type": "markdown",
   "metadata": {},
   "source": [
    "Parse the html data using `beautiful_soup`.\n"
   ]
  },
  {
   "cell_type": "code",
   "execution_count": 20,
   "metadata": {
    "tags": []
   },
   "outputs": [],
   "source": [
    "beautiful_soup = BeautifulSoup(html_data, 'html5lib')"
   ]
  },
  {
   "cell_type": "markdown",
   "metadata": {},
   "source": [
    "Using `BeautifulSoup` or the `read_html` function extract the table with `Tesla Revenue` and store it into a dataframe named `tesla_revenue`. The dataframe should have columns `Date` and `Revenue`.\n"
   ]
  },
  {
   "cell_type": "markdown",
   "metadata": {},
   "source": [
    "<details><summary>Click here if you need help locating the table</summary>\n",
    "\n",
    "```\n",
    "    \n",
    "Below is the code to isolate the table, you will now need to loop through the rows and columns like in the previous lab\n",
    "    \n",
    "soup.find_all(\"tbody\")[1]\n",
    "    \n",
    "If you want to use the read_html function the table is located at index 1\n",
    "\n",
    "We are focusing on quarterly revenue in the lab.\n",
    "```\n",
    "\n",
    "</details>\n"
   ]
  },
  {
   "cell_type": "code",
   "execution_count": 33,
   "metadata": {
    "tags": []
   },
   "outputs": [
    {
     "name": "stdout",
     "output_type": "stream",
     "text": [
      "    Date  Revenue\n",
      "0   2021  $53,823\n",
      "1   2020  $31,536\n",
      "2   2019  $24,578\n",
      "3   2018  $21,461\n",
      "4   2017  $11,759\n",
      "5   2016   $7,000\n",
      "6   2015   $4,046\n",
      "7   2014   $3,198\n",
      "8   2013   $2,013\n",
      "9   2012     $413\n",
      "10  2011     $204\n",
      "11  2010     $117\n",
      "12  2009     $112\n"
     ]
    }
   ],
   "source": [
    "#using read_html\n",
    "tables = pd.read_html(html_data)\n",
    "\n",
    "tesla_revenue = tables[0]\n",
    "\n",
    "tesla_revenue.columns=['Date', 'Revenue']\n",
    "\n",
    "print(tesla_revenue)"
   ]
  },
  {
   "cell_type": "markdown",
   "metadata": {},
   "source": [
    "Execute the following line to remove the comma and dollar sign from the `Revenue` column. \n"
   ]
  },
  {
   "cell_type": "code",
   "execution_count": 34,
   "metadata": {},
   "outputs": [],
   "source": [
    "tesla_revenue[\"Revenue\"] = tesla_revenue['Revenue'].str.replace(',|\\$',\"\")"
   ]
  },
  {
   "cell_type": "markdown",
   "metadata": {},
   "source": [
    "Execute the following lines to remove an null or empty strings in the Revenue column.\n"
   ]
  },
  {
   "cell_type": "code",
   "execution_count": 35,
   "metadata": {},
   "outputs": [],
   "source": [
    "tesla_revenue.dropna(inplace=True)\n",
    "\n",
    "tesla_revenue = tesla_revenue[tesla_revenue['Revenue'] != \"\"]"
   ]
  },
  {
   "cell_type": "markdown",
   "metadata": {},
   "source": [
    "Display the last 5 row of the `tesla_revenue` dataframe using the `tail` function. Take a screenshot of the results.\n"
   ]
  },
  {
   "cell_type": "code",
   "execution_count": 36,
   "metadata": {
    "tags": []
   },
   "outputs": [
    {
     "data": {
      "text/html": [
       "<div>\n",
       "<style scoped>\n",
       "    .dataframe tbody tr th:only-of-type {\n",
       "        vertical-align: middle;\n",
       "    }\n",
       "\n",
       "    .dataframe tbody tr th {\n",
       "        vertical-align: top;\n",
       "    }\n",
       "\n",
       "    .dataframe thead th {\n",
       "        text-align: right;\n",
       "    }\n",
       "</style>\n",
       "<table border=\"1\" class=\"dataframe\">\n",
       "  <thead>\n",
       "    <tr style=\"text-align: right;\">\n",
       "      <th></th>\n",
       "      <th>Date</th>\n",
       "      <th>Revenue</th>\n",
       "    </tr>\n",
       "  </thead>\n",
       "  <tbody>\n",
       "    <tr>\n",
       "      <th>8</th>\n",
       "      <td>2013</td>\n",
       "      <td>2013</td>\n",
       "    </tr>\n",
       "    <tr>\n",
       "      <th>9</th>\n",
       "      <td>2012</td>\n",
       "      <td>413</td>\n",
       "    </tr>\n",
       "    <tr>\n",
       "      <th>10</th>\n",
       "      <td>2011</td>\n",
       "      <td>204</td>\n",
       "    </tr>\n",
       "    <tr>\n",
       "      <th>11</th>\n",
       "      <td>2010</td>\n",
       "      <td>117</td>\n",
       "    </tr>\n",
       "    <tr>\n",
       "      <th>12</th>\n",
       "      <td>2009</td>\n",
       "      <td>112</td>\n",
       "    </tr>\n",
       "  </tbody>\n",
       "</table>\n",
       "</div>"
      ],
      "text/plain": [
       "    Date Revenue\n",
       "8   2013    2013\n",
       "9   2012     413\n",
       "10  2011     204\n",
       "11  2010     117\n",
       "12  2009     112"
      ]
     },
     "execution_count": 36,
     "metadata": {},
     "output_type": "execute_result"
    }
   ],
   "source": [
    "tesla_revenue.tail(5)"
   ]
  },
  {
   "cell_type": "markdown",
   "metadata": {},
   "source": [
    "## Question 3: Use yfinance to Extract Stock Data\n"
   ]
  },
  {
   "cell_type": "markdown",
   "metadata": {},
   "source": [
    "Using the `Ticker` function enter the ticker symbol of the stock we want to extract data on to create a ticker object. The stock is GameStop and its ticker symbol is `GME`.\n"
   ]
  },
  {
   "cell_type": "code",
   "execution_count": 37,
   "metadata": {
    "tags": []
   },
   "outputs": [],
   "source": [
    "gamestop = yf.Ticker('GME')"
   ]
  },
  {
   "cell_type": "markdown",
   "metadata": {},
   "source": [
    "Using the ticker object and the function `history` extract stock information and save it in a dataframe named `gme_data`. Set the `period` parameter to `max` so we get information for the maximum amount of time.\n"
   ]
  },
  {
   "cell_type": "code",
   "execution_count": 39,
   "metadata": {
    "tags": []
   },
   "outputs": [],
   "source": [
    "gme_data = gamestop.history(period = 'max')"
   ]
  },
  {
   "cell_type": "markdown",
   "metadata": {},
   "source": [
    "**Reset the index** using the `reset_index(inplace=True)` function on the gme_data DataFrame and display the first five rows of the `gme_data` dataframe using the `head` function. Take a screenshot of the results and code from the beginning of Question 3 to the results below.\n"
   ]
  },
  {
   "cell_type": "code",
   "execution_count": 40,
   "metadata": {
    "tags": []
   },
   "outputs": [
    {
     "data": {
      "text/html": [
       "<div>\n",
       "<style scoped>\n",
       "    .dataframe tbody tr th:only-of-type {\n",
       "        vertical-align: middle;\n",
       "    }\n",
       "\n",
       "    .dataframe tbody tr th {\n",
       "        vertical-align: top;\n",
       "    }\n",
       "\n",
       "    .dataframe thead th {\n",
       "        text-align: right;\n",
       "    }\n",
       "</style>\n",
       "<table border=\"1\" class=\"dataframe\">\n",
       "  <thead>\n",
       "    <tr style=\"text-align: right;\">\n",
       "      <th></th>\n",
       "      <th>Date</th>\n",
       "      <th>Open</th>\n",
       "      <th>High</th>\n",
       "      <th>Low</th>\n",
       "      <th>Close</th>\n",
       "      <th>Volume</th>\n",
       "      <th>Dividends</th>\n",
       "      <th>Stock Splits</th>\n",
       "    </tr>\n",
       "  </thead>\n",
       "  <tbody>\n",
       "    <tr>\n",
       "      <th>0</th>\n",
       "      <td>2002-02-13</td>\n",
       "      <td>1.620128</td>\n",
       "      <td>1.693350</td>\n",
       "      <td>1.603296</td>\n",
       "      <td>1.691666</td>\n",
       "      <td>76216000</td>\n",
       "      <td>0.0</td>\n",
       "      <td>0.0</td>\n",
       "    </tr>\n",
       "    <tr>\n",
       "      <th>1</th>\n",
       "      <td>2002-02-14</td>\n",
       "      <td>1.712707</td>\n",
       "      <td>1.716074</td>\n",
       "      <td>1.670626</td>\n",
       "      <td>1.683250</td>\n",
       "      <td>11021600</td>\n",
       "      <td>0.0</td>\n",
       "      <td>0.0</td>\n",
       "    </tr>\n",
       "    <tr>\n",
       "      <th>2</th>\n",
       "      <td>2002-02-15</td>\n",
       "      <td>1.683250</td>\n",
       "      <td>1.687458</td>\n",
       "      <td>1.658002</td>\n",
       "      <td>1.674834</td>\n",
       "      <td>8389600</td>\n",
       "      <td>0.0</td>\n",
       "      <td>0.0</td>\n",
       "    </tr>\n",
       "    <tr>\n",
       "      <th>3</th>\n",
       "      <td>2002-02-19</td>\n",
       "      <td>1.666418</td>\n",
       "      <td>1.666418</td>\n",
       "      <td>1.578047</td>\n",
       "      <td>1.607504</td>\n",
       "      <td>7410400</td>\n",
       "      <td>0.0</td>\n",
       "      <td>0.0</td>\n",
       "    </tr>\n",
       "    <tr>\n",
       "      <th>4</th>\n",
       "      <td>2002-02-20</td>\n",
       "      <td>1.615920</td>\n",
       "      <td>1.662209</td>\n",
       "      <td>1.603295</td>\n",
       "      <td>1.662209</td>\n",
       "      <td>6892800</td>\n",
       "      <td>0.0</td>\n",
       "      <td>0.0</td>\n",
       "    </tr>\n",
       "  </tbody>\n",
       "</table>\n",
       "</div>"
      ],
      "text/plain": [
       "        Date      Open      High       Low     Close    Volume  Dividends  \\\n",
       "0 2002-02-13  1.620128  1.693350  1.603296  1.691666  76216000        0.0   \n",
       "1 2002-02-14  1.712707  1.716074  1.670626  1.683250  11021600        0.0   \n",
       "2 2002-02-15  1.683250  1.687458  1.658002  1.674834   8389600        0.0   \n",
       "3 2002-02-19  1.666418  1.666418  1.578047  1.607504   7410400        0.0   \n",
       "4 2002-02-20  1.615920  1.662209  1.603295  1.662209   6892800        0.0   \n",
       "\n",
       "   Stock Splits  \n",
       "0           0.0  \n",
       "1           0.0  \n",
       "2           0.0  \n",
       "3           0.0  \n",
       "4           0.0  "
      ]
     },
     "execution_count": 40,
     "metadata": {},
     "output_type": "execute_result"
    }
   ],
   "source": [
    "gme_data.reset_index(inplace = True)\n",
    "gme_data.head(5)"
   ]
  },
  {
   "cell_type": "markdown",
   "metadata": {},
   "source": [
    "## Question 4: Use Webscraping to Extract GME Revenue Data\n"
   ]
  },
  {
   "cell_type": "markdown",
   "metadata": {},
   "source": [
    "Use the `requests` library to download the webpage https://cf-courses-data.s3.us.cloud-object-storage.appdomain.cloud/IBMDeveloperSkillsNetwork-PY0220EN-SkillsNetwork/labs/project/stock.html. Save the text of the response as a variable named `html_data`.\n"
   ]
  },
  {
   "cell_type": "code",
   "execution_count": 42,
   "metadata": {
    "tags": []
   },
   "outputs": [],
   "source": [
    "url = ' https://cf-courses-data.s3.us.cloud-object-storage.appdomain.cloud/IBMDeveloperSkillsNetwork-PY0220EN-SkillsNetwork/labs/project/stock.html'\n",
    "html_data = requests.get(url).text"
   ]
  },
  {
   "cell_type": "markdown",
   "metadata": {},
   "source": [
    "Parse the html data using `beautiful_soup`.\n"
   ]
  },
  {
   "cell_type": "code",
   "execution_count": 43,
   "metadata": {
    "tags": []
   },
   "outputs": [],
   "source": [
    "soup = BeautifulSoup(html_data, 'html5lib')"
   ]
  },
  {
   "cell_type": "markdown",
   "metadata": {},
   "source": [
    "Using `BeautifulSoup` or the `read_html` function extract the table with `GameStop Revenue` and store it into a dataframe named `gme_revenue`. The dataframe should have columns `Date` and `Revenue`. Make sure the comma and dollar sign is removed from the `Revenue` column using a method similar to what you did in Question 2.\n"
   ]
  },
  {
   "cell_type": "markdown",
   "metadata": {},
   "source": [
    "<details><summary>Click here if you need help locating the table</summary>\n",
    "\n",
    "```\n",
    "    \n",
    "Below is the code to isolate the table, you will now need to loop through the rows and columns like in the previous lab\n",
    "    \n",
    "soup.find_all(\"tbody\")[1]\n",
    "    \n",
    "If you want to use the read_html function the table is located at index 1\n",
    "\n",
    "\n",
    "```\n",
    "\n",
    "</details>\n"
   ]
  },
  {
   "cell_type": "code",
   "execution_count": 51,
   "metadata": {
    "tags": []
   },
   "outputs": [],
   "source": [
    "table = pd.read_html(html_data)\n",
    "gme_revenue = table[0]\n",
    "\n",
    "gme_revenue.columns=['Date', 'Revenue']\n",
    "\n",
    "gme_revenue[\"Revenue\"] = gme_revenue['Revenue'].str.replace(',|\\$',\"\")"
   ]
  },
  {
   "cell_type": "markdown",
   "metadata": {},
   "source": [
    "Display the last five rows of the `gme_revenue` dataframe using the `tail` function. Take a screenshot of the results.\n"
   ]
  },
  {
   "cell_type": "code",
   "execution_count": 52,
   "metadata": {
    "tags": []
   },
   "outputs": [
    {
     "data": {
      "text/html": [
       "<div>\n",
       "<style scoped>\n",
       "    .dataframe tbody tr th:only-of-type {\n",
       "        vertical-align: middle;\n",
       "    }\n",
       "\n",
       "    .dataframe tbody tr th {\n",
       "        vertical-align: top;\n",
       "    }\n",
       "\n",
       "    .dataframe thead th {\n",
       "        text-align: right;\n",
       "    }\n",
       "</style>\n",
       "<table border=\"1\" class=\"dataframe\">\n",
       "  <thead>\n",
       "    <tr style=\"text-align: right;\">\n",
       "      <th></th>\n",
       "      <th>Date</th>\n",
       "      <th>Revenue</th>\n",
       "    </tr>\n",
       "  </thead>\n",
       "  <tbody>\n",
       "    <tr>\n",
       "      <th>11</th>\n",
       "      <td>2009</td>\n",
       "      <td>8806</td>\n",
       "    </tr>\n",
       "    <tr>\n",
       "      <th>12</th>\n",
       "      <td>2008</td>\n",
       "      <td>7094</td>\n",
       "    </tr>\n",
       "    <tr>\n",
       "      <th>13</th>\n",
       "      <td>2007</td>\n",
       "      <td>5319</td>\n",
       "    </tr>\n",
       "    <tr>\n",
       "      <th>14</th>\n",
       "      <td>2006</td>\n",
       "      <td>3092</td>\n",
       "    </tr>\n",
       "    <tr>\n",
       "      <th>15</th>\n",
       "      <td>2005</td>\n",
       "      <td>1843</td>\n",
       "    </tr>\n",
       "  </tbody>\n",
       "</table>\n",
       "</div>"
      ],
      "text/plain": [
       "    Date Revenue\n",
       "11  2009    8806\n",
       "12  2008    7094\n",
       "13  2007    5319\n",
       "14  2006    3092\n",
       "15  2005    1843"
      ]
     },
     "execution_count": 52,
     "metadata": {},
     "output_type": "execute_result"
    }
   ],
   "source": [
    "gme_revenue.tail(5)"
   ]
  },
  {
   "cell_type": "markdown",
   "metadata": {},
   "source": [
    "## Question 5: Plot Tesla Stock Graph\n"
   ]
  },
  {
   "cell_type": "markdown",
   "metadata": {},
   "source": [
    "Use the `make_graph` function to graph the Tesla Stock Data, also provide a title for the graph. The structure to call the `make_graph` function is `make_graph(tesla_data, tesla_revenue, 'Tesla')`. Note the graph will only show data upto June 2021.\n"
   ]
  },
  {
   "cell_type": "code",
   "execution_count": 56,
   "metadata": {
    "tags": []
   },
   "outputs": [
    {
     "data": {
      "image/png": "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\n",
      "text/plain": [
       "<Figure size 1200x600 with 2 Axes>"
      ]
     },
     "metadata": {},
     "output_type": "display_data"
    }
   ],
   "source": [
    "make_graph(tesla_data, tesla_revenue, 'Tesla Stock and Revenue Graph')"
   ]
  },
  {
   "cell_type": "markdown",
   "metadata": {},
   "source": [
    "## Question 6: Plot GameStop Stock Graph\n"
   ]
  },
  {
   "cell_type": "markdown",
   "metadata": {},
   "source": [
    "Use the `make_graph` function to graph the GameStop Stock Data, also provide a title for the graph. The structure to call the `make_graph` function is `make_graph(gme_data, gme_revenue, 'GameStop')`. Note the graph will only show data upto June 2021.\n"
   ]
  },
  {
   "cell_type": "code",
   "execution_count": 57,
   "metadata": {
    "tags": []
   },
   "outputs": [
    {
     "data": {
      "image/png": "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\n",
      "text/plain": [
       "<Figure size 1200x600 with 2 Axes>"
      ]
     },
     "metadata": {},
     "output_type": "display_data"
    }
   ],
   "source": [
    "make_graph(gme_data, gme_revenue, 'GameStop Stock and Revenue Graph')"
   ]
  },
  {
   "cell_type": "markdown",
   "metadata": {},
   "source": [
    "<h2>About the Authors:</h2> \n",
    "\n",
    "<a href=\"https://www.linkedin.com/in/joseph-s-50398b136/\">Joseph Santarcangelo</a> has a PhD in Electrical Engineering, his research focused on using machine learning, signal processing, and computer vision to determine how videos impact human cognition. Joseph has been working for IBM since he completed his PhD.\n",
    "\n",
    "Azim Hirjani\n"
   ]
  },
  {
   "cell_type": "markdown",
   "metadata": {},
   "source": [
    "## Change Log\n",
    "\n",
    "| Date (YYYY-MM-DD) | Version | Changed By    | Change Description        |\n",
    "| ----------------- | ------- | ------------- | ------------------------- |\n",
    "| 2022-02-28        | 1.2     | Lakshmi Holla | Changed the URL of GameStop |\n",
    "| 2020-11-10        | 1.1     | Malika Singla | Deleted the Optional part |\n",
    "| 2020-08-27        | 1.0     | Malika Singla | Added lab to GitLab       |\n",
    "\n",
    "<hr>\n",
    "\n",
    "## <h3 align=\"center\"> © IBM Corporation 2020. All rights reserved. <h3/>\n",
    "\n",
    "<p>\n"
   ]
  }
 ],
 "metadata": {
  "kernelspec": {
   "display_name": "Python",
   "language": "python",
   "name": "conda-env-python-py"
  },
  "language_info": {
   "codemirror_mode": {
    "name": "ipython",
    "version": 3
   },
   "file_extension": ".py",
   "mimetype": "text/x-python",
   "name": "python",
   "nbconvert_exporter": "python",
   "pygments_lexer": "ipython3",
   "version": "3.7.12"
  },
  "prev_pub_hash": "d60eaefd251a42ab1a22dc6c749e72b12de1a0381ae08b532fc47118a00a5394"
 },
 "nbformat": 4,
 "nbformat_minor": 4
}
